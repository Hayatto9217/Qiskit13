{
 "cells": [
  {
   "cell_type": "code",
   "execution_count": 22,
   "id": "d4104f7a-3554-44c5-a2cc-b46b53b668c9",
   "metadata": {},
   "outputs": [
    {
     "ename": "SyntaxError",
     "evalue": "invalid syntax (3184678810.py, line 2)",
     "output_type": "error",
     "traceback": [
      "\u001b[1;36m  Cell \u001b[1;32mIn[22], line 2\u001b[1;36m\u001b[0m\n\u001b[1;33m    pip install cvxpy\u001b[0m\n\u001b[1;37m        ^\u001b[0m\n\u001b[1;31mSyntaxError\u001b[0m\u001b[1;31m:\u001b[0m invalid syntax\n"
     ]
    }
   ],
   "source": [
    "#error でインストール必要あり\n",
    "pip install cvxpy"
   ]
  },
  {
   "cell_type": "code",
   "execution_count": 23,
   "id": "eb88cbb7-0a47-4f13-a3b9-97a84948c96e",
   "metadata": {},
   "outputs": [],
   "source": [
    "#approximate_error and approximate_noise_model\n",
    "\n",
    "from qiskit_aer.utils import approximate_quantum_error, approximate_noise_model"
   ]
  },
  {
   "cell_type": "code",
   "execution_count": 24,
   "id": "7b20eb47-ff8c-4fc2-87af-758a8ee7c3c5",
   "metadata": {},
   "outputs": [],
   "source": [
    "import numpy as np\n",
    "\n",
    "from qiskit_aer.noise import amplitude_damping_error, reset_error, pauli_error\n",
    "from qiskit.quantum_info import Kraus"
   ]
  },
  {
   "cell_type": "code",
   "execution_count": 25,
   "id": "f1c0c10a-62aa-4cd6-a70c-b1f9d94e5777",
   "metadata": {},
   "outputs": [],
   "source": [
    "#Kraus 演算子\n",
    "gamma = 0.23\n",
    "error = amplitude_damping_error(gamma)\n",
    "results = approximate_quantum_error(error, operator_string=\"reset\")"
   ]
  },
  {
   "cell_type": "code",
   "execution_count": 26,
   "id": "77e6064c-8221-4d84-b5cf-17519b39dd5c",
   "metadata": {},
   "outputs": [
    {
     "name": "stdout",
     "output_type": "stream",
     "text": [
      "QuantumError on 1 qubits. Noise circuits:\n",
      "  P(0) = 0.8237482193044617, Circuit = \n",
      "   ┌───┐\n",
      "q: ┤ I ├\n",
      "   └───┘\n",
      "  P(1) = 0.17625178069553835, Circuit = \n",
      "        \n",
      "q: ─|0>─\n",
      "        \n",
      "  P(2) = 2.158685879252966e-23, Circuit = \n",
      "        ┌───┐\n",
      "q: ─|0>─┤ X ├\n",
      "        └───┘\n",
      "\n",
      "Expected results:\n",
      "P(0) = 0.8237482193696062\n",
      "P(1) = 0.17625178063039387\n",
      "P(2) = 0\n"
     ]
    }
   ],
   "source": [
    "print(results)\n",
    "\n",
    "p = ( 1 + gamma -np.sqrt(1 - gamma)) / 2\n",
    "q = 0\n",
    "\n",
    "print(\"\")\n",
    "print(\"Expected results:\")\n",
    "print(\"P(0) = {}\".format(1 -(p+q)))\n",
    "print(\"P(1) = {}\".format(p))\n",
    "print(\"P(2) = {}\".format(q))"
   ]
  },
  {
   "cell_type": "code",
   "execution_count": 31,
   "id": "62362f26-a8eb-49fc-a43a-8f0314b5da91",
   "metadata": {},
   "outputs": [
    {
     "name": "stdout",
     "output_type": "stream",
     "text": [
      "QuantumError on 1 qubits. Noise circuits:\n",
      "  P(0) = 0.8237482193044623, Circuit = \n",
      "   ┌───┐\n",
      "q: ┤ I ├\n",
      "   └───┘\n",
      "  P(1) = 0.1762517806955376, Circuit = \n",
      "        \n",
      "q: ─|0>─\n",
      "        \n",
      "  P(2) = 6.463899246563026e-23, Circuit = \n",
      "        ┌───┐\n",
      "q: ─|0>─┤ X ├\n",
      "        └───┘\n"
     ]
    }
   ],
   "source": [
    "#error operatorsはリスト、辞書またはハードコードされたチャネルを示す文字列として与える\n",
    "gamma = 0.23\n",
    "k0 = np.array([[1,0],[0,np.sqrt(1-gamma)]])\n",
    "k1 = np.array([[0, np.sqrt(gamma)], [0,0]])\n",
    "results =approximate_quantum_error(Kraus([k0, k1]), operator_string=\"reset\")\n",
    "print(results)"
   ]
  },
  {
   "cell_type": "code",
   "execution_count": 35,
   "id": "1f8983e6-b0b0-45f4-ac48-d8a43f501890",
   "metadata": {},
   "outputs": [
    {
     "name": "stdout",
     "output_type": "stream",
     "text": [
      "QuantumError on 1 qubits. Noise circuits:\n",
      "  P(0) = 0.8237482193044617, Circuit = \n",
      "   ┌───┐\n",
      "q: ┤ I ├\n",
      "   └───┘\n",
      "  P(1) = 0.17625178069553835, Circuit = \n",
      "   ┌───────┐\n",
      "q: ┤ kraus ├\n",
      "   └───────┘\n",
      "  P(2) = 2.158685879252966e-23, Circuit = \n",
      "   ┌───────┐\n",
      "q: ┤ kraus ├\n",
      "   └───────┘\n"
     ]
    }
   ],
   "source": [
    "reset_to_0 = Kraus([np.array([[1,0],[0,0]]), np.array([[0,1],[0,0]])])\n",
    "reset_to_1 = Kraus([np.array([[0,0],[1,0]]), np.array([[0,0],[0,1]])])\n",
    "reset_kraus = [reset_to_0, reset_to_1]\n",
    "\n",
    "gamma = 0.23\n",
    "error = amplitude_damping_error(gamma)\n",
    "results = approximate_quantum_error(error, operator_list=reset_kraus)\n",
    "print(results)"
   ]
  },
  {
   "cell_type": "code",
   "execution_count": 37,
   "id": "c5085f46-2a40-4ccc-9800-ff012e22bde1",
   "metadata": {},
   "outputs": [
    {
     "data": {
      "text/html": [
       "<h3>Version Information</h3><table><tr><th>Software</th><th>Version</th></tr><tr><td><code>qiskit</code></td><td>0.44.0</td></tr><tr><td><code>qiskit-terra</code></td><td>0.25.0</td></tr><tr><td><code>qiskit_aer</code></td><td>0.12.2</td></tr><tr><th colspan='2'>System information</th></tr><tr><td>Python version</td><td>3.10.12</td></tr><tr><td>Python compiler</td><td>MSC v.1916 64 bit (AMD64)</td></tr><tr><td>Python build</td><td>main, Jul  5 2023 19:01:18</td></tr><tr><td>OS</td><td>Windows</td></tr><tr><td>CPUs</td><td>8</td></tr><tr><td>Memory (Gb)</td><td>31.87270736694336</td></tr><tr><td colspan='2'>Wed Sep 06 09:44:06 2023 東京 (標準時)</td></tr></table>"
      ],
      "text/plain": [
       "<IPython.core.display.HTML object>"
      ]
     },
     "metadata": {},
     "output_type": "display_data"
    },
    {
     "data": {
      "text/html": [
       "<div style='width: 100%; background-color:#d5d9e0;padding-left: 10px; padding-bottom: 10px; padding-right: 10px; padding-top: 5px'><h3>This code is a part of Qiskit</h3><p>&copy; Copyright IBM 2017, 2023.</p><p>This code is licensed under the Apache License, Version 2.0. You may<br>obtain a copy of this license in the LICENSE.txt file in the root directory<br> of this source tree or at http://www.apache.org/licenses/LICENSE-2.0.<p>Any modifications or derivative works of this code must retain this<br>copyright notice, and modified files need to carry a notice indicating<br>that they have been altered from the originals.</p></div>"
      ],
      "text/plain": [
       "<IPython.core.display.HTML object>"
      ]
     },
     "metadata": {},
     "output_type": "display_data"
    }
   ],
   "source": [
    "import qiskit.tools.jupyter\n",
    "%qiskit_version_table\n",
    "%qiskit_copyright"
   ]
  },
  {
   "cell_type": "code",
   "execution_count": null,
   "id": "e6c9d84b-5d10-4c6a-b926-9b969e58edec",
   "metadata": {},
   "outputs": [],
   "source": []
  }
 ],
 "metadata": {
  "kernelspec": {
   "display_name": "Python 3 (ipykernel)",
   "language": "python",
   "name": "python3"
  },
  "language_info": {
   "codemirror_mode": {
    "name": "ipython",
    "version": 3
   },
   "file_extension": ".py",
   "mimetype": "text/x-python",
   "name": "python",
   "nbconvert_exporter": "python",
   "pygments_lexer": "ipython3",
   "version": "3.10.12"
  }
 },
 "nbformat": 4,
 "nbformat_minor": 5
}
